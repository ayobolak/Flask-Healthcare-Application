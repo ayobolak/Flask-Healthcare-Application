{
 "cells": [
  {
   "cell_type": "code",
   "execution_count": 1,
   "id": "e7829542",
   "metadata": {},
   "outputs": [],
   "source": [
    "# 1. Import libraries\n",
    "\n",
    "from pymongo import MongoClient\n",
    "import csv"
   ]
  },
  {
   "cell_type": "code",
   "execution_count": 2,
   "id": "c3b693e7",
   "metadata": {},
   "outputs": [],
   "source": [
    "# 2. Define the User class\n",
    "\n",
    "class User:\n",
    "    def __init__(self, age, gender, income, expenses):\n",
    "        self.age = age\n",
    "        self.gender = gender\n",
    "        self.income = income\n",
    "        self.expenses = expenses  # Dictionary with categories like {'utilities': 100, 'shopping': 200}\n",
    "\n",
    "    def to_dict(self):\n",
    "        # Convert the object to a dictionary for CSV writing\n",
    "        data = {\n",
    "            'Age': self.age,\n",
    "            'Gender': self.gender,\n",
    "            'Income': self.income,\n",
    "        }\n",
    "        # Add expense categories to the dict, defaulting to 0\n",
    "        categories = ['utilities', 'entertainment', 'school_fees', 'shopping', 'healthcare']\n",
    "        for cat in categories:\n",
    "            data[cat] = self.expenses.get(cat, 0)\n",
    "        return data"
   ]
  },
  {
   "cell_type": "code",
   "execution_count": 3,
   "id": "77636bb8",
   "metadata": {},
   "outputs": [],
   "source": [
    "# 3. Connect to MongoDB and load data\n",
    "\n",
    "client = MongoClient(\"mongodb://localhost:27017/\")\n",
    "db = client[\"income_survey\"]\n",
    "collection = db[\"responses\"]"
   ]
  },
  {
   "cell_type": "code",
   "execution_count": 4,
   "id": "9827e7c0",
   "metadata": {},
   "outputs": [],
   "source": [
    "# 4. Build a list of User objects from MongoDB\n",
    "\n",
    "users = []\n",
    "for doc in collection.find():\n",
    "    user = User(\n",
    "        age=doc.get(\"age\"),\n",
    "        gender=doc.get(\"gender\"),\n",
    "        income=doc.get(\"total_income\"),  # Use total_income from MongoDB, maps to 'income' in User class\n",
    "        expenses=doc.get(\"expenses\", {})\n",
    "    )\n",
    "    users.append(user)"
   ]
  },
  {
   "cell_type": "code",
   "execution_count": 5,
   "id": "eb963c38",
   "metadata": {},
   "outputs": [
    {
     "name": "stdout",
     "output_type": "stream",
     "text": [
      "✅ Data saved to users.csv\n"
     ]
    }
   ],
   "source": [
    "# 5. Export to CSV\n",
    "\n",
    "filename = 'users.csv'\n",
    "\n",
    "with open(filename, mode='w', newline='') as csvfile:\n",
    "    fieldnames = ['Age', 'Gender', 'Income', 'utilities', 'entertainment', 'school_fees', 'shopping', 'healthcare']\n",
    "    writer = csv.DictWriter(csvfile, fieldnames=fieldnames)\n",
    "\n",
    "    writer.writeheader()\n",
    "\n",
    "    for user in users:\n",
    "        writer.writerow(user.to_dict())\n",
    "\n",
    "print(f\"✅ Data saved to {filename}\")"
   ]
  },
  {
   "cell_type": "code",
   "execution_count": null,
   "id": "2ccfc149",
   "metadata": {},
   "outputs": [],
   "source": []
  }
 ],
 "metadata": {
  "kernelspec": {
   "display_name": "Python 3 (ipykernel)",
   "language": "python",
   "name": "python3"
  },
  "language_info": {
   "codemirror_mode": {
    "name": "ipython",
    "version": 3
   },
   "file_extension": ".py",
   "mimetype": "text/x-python",
   "name": "python",
   "nbconvert_exporter": "python",
   "pygments_lexer": "ipython3",
   "version": "3.9.13"
  }
 },
 "nbformat": 4,
 "nbformat_minor": 5
}
